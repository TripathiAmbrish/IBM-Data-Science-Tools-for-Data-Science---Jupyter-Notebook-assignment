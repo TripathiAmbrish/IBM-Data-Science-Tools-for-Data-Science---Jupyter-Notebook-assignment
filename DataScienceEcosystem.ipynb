{
 "cells": [
  {
   "cell_type": "markdown",
   "id": "1164aeb7",
   "metadata": {},
   "source": [
    "# Data Science tools and ecosystem"
   ]
  },
  {
   "cell_type": "markdown",
   "id": "d8bfdeb3",
   "metadata": {},
   "source": [
    "In this notebook, Data Science Tools and Ecosyestem are summerized."
   ]
  },
  {
   "cell_type": "markdown",
   "id": "4c80a732",
   "metadata": {},
   "source": [
    "**Objectives:**\n",
    "    \n",
    "    + Create a new Jupyter Notebook\n",
    "    + Use different header levels\n",
    "    + Executing Arithmetic Functions\n",
    "    + Share notebook through Github"
   ]
  },
  {
   "cell_type": "markdown",
   "id": "5b76f4da",
   "metadata": {},
   "source": [
    "Some of the popular languages that Data Scientists use are:\n",
    "\n",
    "    1. Python\n",
    "    2. R\n",
    "    3. Java\n",
    "    4. Scala"
   ]
  },
  {
   "cell_type": "markdown",
   "id": "c88ebef0",
   "metadata": {},
   "source": [
    "Some of the commonly used libraries used by Data Scientists include:\n",
    "    \n",
    "    1. Pandas\n",
    "    2. TensorFlow\n",
    "    3. Scipy\n",
    "    4. Numpy"
   ]
  },
  {
   "cell_type": "markdown",
   "id": "ed0a7926",
   "metadata": {},
   "source": [
    "##### Table listing three development environment open source tools in Data science\n",
    "\n",
    "|Data Science Tools|\n",
    "|------------------|\n",
    "|Jupyter Notebooks|\n",
    "|Zeppelin|\n",
    "|R Studio|"
   ]
  },
  {
   "cell_type": "markdown",
   "id": "33bf5bad",
   "metadata": {},
   "source": [
    "### Below are a few examples of evaluating arithmetic expressions in Python"
   ]
  },
  {
   "cell_type": "markdown",
   "id": "2d1563a9",
   "metadata": {},
   "source": [
    "###### example of arithmatic expression:"
   ]
  },
  {
   "cell_type": "code",
   "execution_count": 1,
   "id": "5c0bd1d4",
   "metadata": {},
   "outputs": [
    {
     "data": {
      "text/plain": [
       "28"
      ]
     },
     "execution_count": 1,
     "metadata": {},
     "output_type": "execute_result"
    }
   ],
   "source": [
    "(11+3)*2"
   ]
  },
  {
   "cell_type": "code",
   "execution_count": 1,
   "id": "17b18ed9",
   "metadata": {},
   "outputs": [
    {
     "data": {
      "text/plain": [
       "17"
      ]
     },
     "execution_count": 1,
     "metadata": {},
     "output_type": "execute_result"
    }
   ],
   "source": [
    "#This is simple arithmetic expression to multiply then add integer\n",
    "(3*4)+5"
   ]
  },
  {
   "cell_type": "code",
   "execution_count": 6,
   "id": "247688fb",
   "metadata": {},
   "outputs": [
    {
     "data": {
      "text/plain": [
       "3.3333333333333335"
      ]
     },
     "execution_count": 6,
     "metadata": {},
     "output_type": "execute_result"
    }
   ],
   "source": [
    "#This will convert 200 minutes to hours by diving by 60\n",
    "200/60"
   ]
  },
  {
   "cell_type": "markdown",
   "id": "d323f6ac",
   "metadata": {},
   "source": [
    "## Author\n",
    " Ambrish Tripathi"
   ]
  }
 ],
 "metadata": {
  "kernelspec": {
   "display_name": "Python 3 (ipykernel)",
   "language": "python",
   "name": "python3"
  },
  "language_info": {
   "codemirror_mode": {
    "name": "ipython",
    "version": 3
   },
   "file_extension": ".py",
   "mimetype": "text/x-python",
   "name": "python",
   "nbconvert_exporter": "python",
   "pygments_lexer": "ipython3",
   "version": "3.10.9"
  }
 },
 "nbformat": 4,
 "nbformat_minor": 5
}
